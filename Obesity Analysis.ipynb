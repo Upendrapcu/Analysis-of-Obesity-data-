{
 "cells": [
  {
   "cell_type": "markdown",
   "metadata": {},
   "source": [
    "# Analysis of Obesity data for different countries "
   ]
  },
  {
   "cell_type": "markdown",
   "metadata": {},
   "source": [
    "## Exploring Datasets with pandas and Matplotlib\n",
    "\n",
    "### Toolkits: The course heavily relies on pandas and Numpy for data wrangling, analysis, and visualization. The primary plotting library that we are exploring in the course is Matplotlib.\n",
    "\n",
    "### Dataset: List Obesity rate from each country based on population from 1975 to 2017 picked from kaggle.com for learning Data Science"
   ]
  },
  {
   "cell_type": "code",
   "execution_count": 1,
   "metadata": {},
   "outputs": [],
   "source": [
    "import numpy as np  # useful for many scientific computing in Python\n",
    "import pandas as pd # primary data structure library\n"
   ]
  },
  {
   "cell_type": "code",
   "execution_count": 2,
   "metadata": {},
   "outputs": [
    {
     "data": {
      "text/html": [
       "<div>\n",
       "<style scoped>\n",
       "    .dataframe tbody tr th:only-of-type {\n",
       "        vertical-align: middle;\n",
       "    }\n",
       "\n",
       "    .dataframe tbody tr th {\n",
       "        vertical-align: top;\n",
       "    }\n",
       "\n",
       "    .dataframe thead th {\n",
       "        text-align: right;\n",
       "    }\n",
       "</style>\n",
       "<table border=\"1\" class=\"dataframe\">\n",
       "  <thead>\n",
       "    <tr style=\"text-align: right;\">\n",
       "      <th></th>\n",
       "      <th>Unnamed: 0</th>\n",
       "      <th>Country</th>\n",
       "      <th>Year</th>\n",
       "      <th>Obesity (%)</th>\n",
       "      <th>Sex</th>\n",
       "    </tr>\n",
       "  </thead>\n",
       "  <tbody>\n",
       "    <tr>\n",
       "      <th>0</th>\n",
       "      <td>0</td>\n",
       "      <td>Afghanistan</td>\n",
       "      <td>1975</td>\n",
       "      <td>0.5 [0.2-1.1]</td>\n",
       "      <td>Both sexes</td>\n",
       "    </tr>\n",
       "    <tr>\n",
       "      <th>1</th>\n",
       "      <td>1</td>\n",
       "      <td>Afghanistan</td>\n",
       "      <td>1975</td>\n",
       "      <td>0.2 [0.0-0.6]</td>\n",
       "      <td>Male</td>\n",
       "    </tr>\n",
       "    <tr>\n",
       "      <th>2</th>\n",
       "      <td>2</td>\n",
       "      <td>Afghanistan</td>\n",
       "      <td>1975</td>\n",
       "      <td>0.8 [0.2-2.0]</td>\n",
       "      <td>Female</td>\n",
       "    </tr>\n",
       "    <tr>\n",
       "      <th>3</th>\n",
       "      <td>3</td>\n",
       "      <td>Afghanistan</td>\n",
       "      <td>1976</td>\n",
       "      <td>0.5 [0.2-1.1]</td>\n",
       "      <td>Both sexes</td>\n",
       "    </tr>\n",
       "    <tr>\n",
       "      <th>4</th>\n",
       "      <td>4</td>\n",
       "      <td>Afghanistan</td>\n",
       "      <td>1976</td>\n",
       "      <td>0.2 [0.0-0.7]</td>\n",
       "      <td>Male</td>\n",
       "    </tr>\n",
       "  </tbody>\n",
       "</table>\n",
       "</div>"
      ],
      "text/plain": [
       "   Unnamed: 0      Country  Year    Obesity (%)         Sex\n",
       "0           0  Afghanistan  1975  0.5 [0.2-1.1]  Both sexes\n",
       "1           1  Afghanistan  1975  0.2 [0.0-0.6]        Male\n",
       "2           2  Afghanistan  1975  0.8 [0.2-2.0]      Female\n",
       "3           3  Afghanistan  1976  0.5 [0.2-1.1]  Both sexes\n",
       "4           4  Afghanistan  1976  0.2 [0.0-0.7]        Male"
      ]
     },
     "execution_count": 2,
     "metadata": {},
     "output_type": "execute_result"
    }
   ],
   "source": [
    "# Read the CSV format excel that was saved in local drives. \n",
    "\n",
    "df_obes=pd.read_csv(\"/resources/data/Obesity-Cleaned.csv\")\n",
    "\n",
    "df_obes.head()\n"
   ]
  },
  {
   "cell_type": "markdown",
   "metadata": {},
   "source": [
    "#### 1) Clean up dataset to remove rows/colums which has least significance or not imformative."
   ]
  },
  {
   "cell_type": "code",
   "execution_count": 3,
   "metadata": {},
   "outputs": [
    {
     "data": {
      "text/html": [
       "<div>\n",
       "<style scoped>\n",
       "    .dataframe tbody tr th:only-of-type {\n",
       "        vertical-align: middle;\n",
       "    }\n",
       "\n",
       "    .dataframe tbody tr th {\n",
       "        vertical-align: top;\n",
       "    }\n",
       "\n",
       "    .dataframe thead th {\n",
       "        text-align: right;\n",
       "    }\n",
       "</style>\n",
       "<table border=\"1\" class=\"dataframe\">\n",
       "  <thead>\n",
       "    <tr style=\"text-align: right;\">\n",
       "      <th></th>\n",
       "      <th>Unnamed: 0</th>\n",
       "      <th>Country</th>\n",
       "      <th>Year</th>\n",
       "      <th>Obesity (%)</th>\n",
       "      <th>Sex</th>\n",
       "    </tr>\n",
       "  </thead>\n",
       "  <tbody>\n",
       "    <tr>\n",
       "      <th>0</th>\n",
       "      <td>0</td>\n",
       "      <td>Afghanistan</td>\n",
       "      <td>1975</td>\n",
       "      <td>0.5 [0.2-1.1]</td>\n",
       "      <td>Both sexes</td>\n",
       "    </tr>\n",
       "    <tr>\n",
       "      <th>3</th>\n",
       "      <td>3</td>\n",
       "      <td>Afghanistan</td>\n",
       "      <td>1976</td>\n",
       "      <td>0.5 [0.2-1.1]</td>\n",
       "      <td>Both sexes</td>\n",
       "    </tr>\n",
       "    <tr>\n",
       "      <th>6</th>\n",
       "      <td>6</td>\n",
       "      <td>Afghanistan</td>\n",
       "      <td>1977</td>\n",
       "      <td>0.6 [0.2-1.2]</td>\n",
       "      <td>Both sexes</td>\n",
       "    </tr>\n",
       "    <tr>\n",
       "      <th>9</th>\n",
       "      <td>9</td>\n",
       "      <td>Afghanistan</td>\n",
       "      <td>1978</td>\n",
       "      <td>0.6 [0.2-1.3]</td>\n",
       "      <td>Both sexes</td>\n",
       "    </tr>\n",
       "    <tr>\n",
       "      <th>12</th>\n",
       "      <td>12</td>\n",
       "      <td>Afghanistan</td>\n",
       "      <td>1979</td>\n",
       "      <td>0.6 [0.3-1.3]</td>\n",
       "      <td>Both sexes</td>\n",
       "    </tr>\n",
       "  </tbody>\n",
       "</table>\n",
       "</div>"
      ],
      "text/plain": [
       "    Unnamed: 0      Country  Year    Obesity (%)         Sex\n",
       "0            0  Afghanistan  1975  0.5 [0.2-1.1]  Both sexes\n",
       "3            3  Afghanistan  1976  0.5 [0.2-1.1]  Both sexes\n",
       "6            6  Afghanistan  1977  0.6 [0.2-1.2]  Both sexes\n",
       "9            9  Afghanistan  1978  0.6 [0.2-1.3]  Both sexes\n",
       "12          12  Afghanistan  1979  0.6 [0.3-1.3]  Both sexes"
      ]
     },
     "execution_count": 3,
     "metadata": {},
     "output_type": "execute_result"
    }
   ],
   "source": [
    "# Per each county and each year we have three rows 1) Both genders ,2)Male and 3)Female. \n",
    "# Let us concentrate on overall population for country\n",
    "\n",
    "df_obesity = df_obes[(df_obes['Sex'] == 'Both sexes')]\n",
    "\n",
    "df_obesity.head()\n"
   ]
  },
  {
   "cell_type": "markdown",
   "metadata": {},
   "source": [
    "#### 2) Rename columns for more readability and drop columns which are not required. \n",
    "###### Since we are not concentrating on\" gender in our initial analysis, we can drop column \"SEX\""
   ]
  },
  {
   "cell_type": "code",
   "execution_count": 4,
   "metadata": {},
   "outputs": [
    {
     "data": {
      "text/plain": [
       "Index(['Unnamed: 0', 'Country', 'Year', 'Obesity (%)', 'Sex'], dtype='object')"
      ]
     },
     "execution_count": 4,
     "metadata": {},
     "output_type": "execute_result"
    }
   ],
   "source": [
    "df_obesity.columns\n"
   ]
  },
  {
   "cell_type": "code",
   "execution_count": 5,
   "metadata": {},
   "outputs": [
    {
     "name": "stderr",
     "output_type": "stream",
     "text": [
      "/home/jupyterlab/conda/envs/python/lib/python3.6/site-packages/pandas/core/frame.py:3997: SettingWithCopyWarning: \n",
      "A value is trying to be set on a copy of a slice from a DataFrame\n",
      "\n",
      "See the caveats in the documentation: https://pandas.pydata.org/pandas-docs/stable/user_guide/indexing.html#returning-a-view-versus-a-copy\n",
      "  errors=errors,\n"
     ]
    },
    {
     "data": {
      "text/html": [
       "<div>\n",
       "<style scoped>\n",
       "    .dataframe tbody tr th:only-of-type {\n",
       "        vertical-align: middle;\n",
       "    }\n",
       "\n",
       "    .dataframe tbody tr th {\n",
       "        vertical-align: top;\n",
       "    }\n",
       "\n",
       "    .dataframe thead th {\n",
       "        text-align: right;\n",
       "    }\n",
       "</style>\n",
       "<table border=\"1\" class=\"dataframe\">\n",
       "  <thead>\n",
       "    <tr style=\"text-align: right;\">\n",
       "      <th></th>\n",
       "      <th>Unnamed: 0</th>\n",
       "      <th>Country</th>\n",
       "      <th>Year</th>\n",
       "      <th>Obesity (%)</th>\n",
       "    </tr>\n",
       "  </thead>\n",
       "  <tbody>\n",
       "    <tr>\n",
       "      <th>0</th>\n",
       "      <td>0</td>\n",
       "      <td>Afghanistan</td>\n",
       "      <td>1975</td>\n",
       "      <td>0.5 [0.2-1.1]</td>\n",
       "    </tr>\n",
       "    <tr>\n",
       "      <th>3</th>\n",
       "      <td>3</td>\n",
       "      <td>Afghanistan</td>\n",
       "      <td>1976</td>\n",
       "      <td>0.5 [0.2-1.1]</td>\n",
       "    </tr>\n",
       "    <tr>\n",
       "      <th>6</th>\n",
       "      <td>6</td>\n",
       "      <td>Afghanistan</td>\n",
       "      <td>1977</td>\n",
       "      <td>0.6 [0.2-1.2]</td>\n",
       "    </tr>\n",
       "    <tr>\n",
       "      <th>9</th>\n",
       "      <td>9</td>\n",
       "      <td>Afghanistan</td>\n",
       "      <td>1978</td>\n",
       "      <td>0.6 [0.2-1.3]</td>\n",
       "    </tr>\n",
       "    <tr>\n",
       "      <th>12</th>\n",
       "      <td>12</td>\n",
       "      <td>Afghanistan</td>\n",
       "      <td>1979</td>\n",
       "      <td>0.6 [0.3-1.3]</td>\n",
       "    </tr>\n",
       "  </tbody>\n",
       "</table>\n",
       "</div>"
      ],
      "text/plain": [
       "    Unnamed: 0      Country  Year    Obesity (%)\n",
       "0            0  Afghanistan  1975  0.5 [0.2-1.1]\n",
       "3            3  Afghanistan  1976  0.5 [0.2-1.1]\n",
       "6            6  Afghanistan  1977  0.6 [0.2-1.2]\n",
       "9            9  Afghanistan  1978  0.6 [0.2-1.3]\n",
       "12          12  Afghanistan  1979  0.6 [0.3-1.3]"
      ]
     },
     "execution_count": 5,
     "metadata": {},
     "output_type": "execute_result"
    }
   ],
   "source": [
    "# All datatypes are object , covert obesity percentage to float and remove range.\n",
    "# Since we are not concentrating on\" gender in our initial analysis, we can drop column \"SEX\", drop te \n",
    "\n",
    "df_obesity.drop(['Sex'], axis=1 , inplace=True)\n",
    "df_obesity.head()\n"
   ]
  },
  {
   "cell_type": "code",
   "execution_count": 6,
   "metadata": {},
   "outputs": [
    {
     "data": {
      "text/plain": [
       "array(['0.5 ', '0.6 ', '0.7 ', '0.8 ', '0.9 ', '1.0 ', '1.1 ', '1.2 ',\n",
       "       '1.3 ', '1.4 ', '1.5 ', '1.6 ', '1.7 ', '1.8 ', '1.9 ', '2.1 ',\n",
       "       '2.2 ', '2.3 ', '2.4 ', '2.6 ', '2.7 ', '2.9 ', '3.0 ', '3.2 ',\n",
       "       '3.4 ', '3.6 ', '3.8 ', '4.0 ', '4.2 ', '4.4 ', '4.7 ', '4.9 ',\n",
       "       '5.2 ', '5.5 ', '6.5 ', '6.7 ', '6.8 ', '7.0 ', '7.2 ', '7.4 ',\n",
       "       '7.6 ', '7.8 ', '8.0 ', '8.3 ', '8.5 ', '8.7 ', '9.0 ', '9.3 ',\n",
       "       '9.5 ', '9.8 ', '10.1', '10.4', '10.7', '11.0', '11.3', '11.7',\n",
       "       '12.0', '12.4', '12.8', '13.2', '13.6', '14.0', '14.5', '14.9',\n",
       "       '15.4', '16.0', '16.5', '17.0', '17.6', '18.2', '18.8', '19.3',\n",
       "       '19.9', '20.5', '21.1', '21.7', '6.9 ', '7.7 ', '8.6 ', '9.4 ',\n",
       "       '9.7 ', '10.2', '10.6', '11.5', '11.9', '13.3', '13.8', '14.3',\n",
       "       '14.8', '15.3', '15.8', '16.3', '16.8', '17.4', '17.9', '18.5',\n",
       "       '19.1', '19.6', '20.2', '20.8', '21.4', '22.0', '22.7', '23.3',\n",
       "       '24.0', '24.7', '25.3', '26.0', '26.7', '27.4', '12.9', '13.5',\n",
       "       '15.0', '15.5', '16.9', '17.8', '18.6', '19.0', '20.4', '20.7',\n",
       "       '21.0', '21.2', '21.5', '22.2', '22.5', '22.9', '23.2', '23.4',\n",
       "       '23.6', '23.8', '24.2', '24.4', '24.6', '24.8', '25.0', '25.2',\n",
       "       '25.4', '25.6', '2.0 ', '3.1 ', '4.1 ', '4.3 ', '4.5 ', '4.8 ',\n",
       "       '5.0 ', '5.3 ', '5.6 ', '5.9 ', '6.2 ', '7.1 ', '7.5 ', '7.9 ',\n",
       "       '8.2 ', '5.8 ', '6.0 ', '6.4 ', '6.6 ', '8.8 ', '9.1 ', '12.3',\n",
       "       '12.7', '13.0', '13.7', '14.4', '14.7', '15.1', '15.9', '16.2',\n",
       "       '16.7', '17.1', '17.5', '18.0', '18.4', '18.9', '11.2', '11.8',\n",
       "       '12.1', '12.5', '13.1', '14.2', '14.6', '16.6', '19.5', '20.3',\n",
       "       '21.6', '22.1', '23.0', '23.9', '25.8', '26.3', '26.8', '27.3',\n",
       "       '27.8', '28.3', '7.3 ', '8.1 ', '8.4 ', '10.3', '10.9', '11.4',\n",
       "       '13.9', '15.7', '16.4', '18.3', '19.2', '19.7', '10.5', '10.8',\n",
       "       '11.6', '12.2', '18.1', '21.3', '21.8', '22.4', '23.5', '25.1',\n",
       "       '26.2', '27.9', '28.4', '29.0', '9.6 ', '12.6', '16.1', '17.3',\n",
       "       '20.1', '11.1', '15.2', '17.2', '17.7', '14.1', '20.0', '21.9',\n",
       "       '24.3', '25.7', '26.6', '27.1', '27.6', '28.1', '28.5', '29.5',\n",
       "       '30.0', '30.5', '31.0', '31.6', '18.7', '19.4', '19.8', '20.6',\n",
       "       '28.2', '28.8', '29.3', '29.8', '0.2 ', '0.3 ', '0.4 ', '2.5 ',\n",
       "       '2.8 ', '8.9 ', '13.4', '15.6', '20.9', '23.1', '9.9 ', '22.3',\n",
       "       '23.7', '24.1', '24.5', '9.2 ', '4.6 ', '5.7 ', '3.9 ', '6.1 ',\n",
       "       '5.4 ', '10.0', '3.3 ', '3.5 ', '3.7 ', '6.3 ', '5.1 ', '22.8',\n",
       "       '24.9', '25.5', '27.7', '29.4', '26.1', '26.5', '27.0', '27.5',\n",
       "       '28.0', '28.6', '29.2', '29.7', '30.3', '30.8', '31.4', '32.0',\n",
       "       '32.6', '33.3', '33.9', '34.6', '35.3', '36.1', '36.8', '37.5',\n",
       "       '38.3', '39.0', '39.7', '40.4', '41.0', '41.8', '42.5', '43.3',\n",
       "       '44.1', '44.9', '45.8', '46.6', '47.5', '48.3', '49.1', '49.9',\n",
       "       '50.6', '51.3', '52.0', '52.6', '53.2', '53.8', '54.3', '54.9',\n",
       "       '55.4', '55.9', '22.6', '26.9', '30.6', '31.3', '28.9', '30.2',\n",
       "       '25.9', '26.4', '30.4', '31.9', '32.5', '33.1', '33.7', '34.3',\n",
       "       '34.9', '35.5', '31.2', '32.1', '33.0', '35.8', '36.6', '37.4',\n",
       "       '38.2', '38.9', '39.6', '40.3', '40.9', '41.6', '42.2', '42.8',\n",
       "       '43.5', '44.7', '45.3', '46.0', '27.2', '28.7', '29.1', '29.6',\n",
       "       '30.1', '31.5', '33.5', '34.0', '35.1', '35.6', '36.2', '37.9',\n",
       "       '31.1', '31.7', '32.2', '32.8', '33.4', '34.1', '34.8', '36.9',\n",
       "       '37.7', '38.4', '39.1', '39.8', '40.5', '41.1', '43.1', '43.7',\n",
       "       '44.4', '45.0', '45.5', '46.1', '46.7', '47.3', '47.9', '48.4',\n",
       "       '49.0', '49.6', '50.1', '50.7', '51.8', '52.4', '52.9', '30.9',\n",
       "       '32.3', '32.9', '34.2', '34.7', '35.4', '36.0', '37.3', '38.6',\n",
       "       '39.3', '40.1', '40.8', '41.5', '42.9', '45.1', 'No d', '44.5',\n",
       "       '45.4', '46.3', '47.1', '48.7', '49.5', '50.4', '50.8', '51.2',\n",
       "       '51.7', '52.1', '52.5', '53.0', '53.4', '54.7', '55.1', '55.5',\n",
       "       '56.3', '56.7', '57.0', '57.4', '57.8', '58.2', '58.5', '58.9',\n",
       "       '59.3', '59.6', '60.0', '60.3', '60.7', '61.0', '31.8', '33.2',\n",
       "       '36.7', '41.3', '42.1', '43.6', '45.2', '46.8', '47.6', '49.2',\n",
       "       '50.0', '38.0', '38.8', '39.5', '40.2', '43.4', '44.0', '45.6',\n",
       "       '46.2', '48.2', '48.9', '49.7', '51.1', '53.1', '53.7', '54.2',\n",
       "       '54.8', '55.3', '32.4', '33.8', '34.5', '38.1', '30.7', '33.6',\n",
       "       '36.3', '37.0', '39.9', '40.6', '42.0', '42.7', '32.7', '37.8',\n",
       "       '38.5', '40.0', '42.3', '43.9', '47.0', '47.8', '48.6', '49.4',\n",
       "       '50.9', '51.6', '0.1 '], dtype=object)"
      ]
     },
     "execution_count": 6,
     "metadata": {},
     "output_type": "execute_result"
    }
   ],
   "source": [
    "#### Check whether there are any null values/ missing values for Obesity percentage before converting datatype from string to float. \n",
    "## df_obesity.dropna(subset=[\"Obesity (%)\"], axis=0, inplace= True) \n",
    "df_obesity[\"Obesity (%)\"].str[0:4].unique()\n",
    "\n",
    "\n"
   ]
  },
  {
   "cell_type": "code",
   "execution_count": 7,
   "metadata": {},
   "outputs": [
    {
     "data": {
      "text/plain": [
       "array(['Monaco', 'San Marino', 'South Sudan', 'Sudan'], dtype=object)"
      ]
     },
     "execution_count": 7,
     "metadata": {},
     "output_type": "execute_result"
    }
   ],
   "source": [
    "# there are few conutries with \"NO Data\" as Obesity percentage, Analyze whether it is for few years or whole country.\n",
    "\n",
    "df_obesity[(df_obesity['Obesity (%)'] =='No data')].Country.unique()"
   ]
  },
  {
   "cell_type": "code",
   "execution_count": 9,
   "metadata": {},
   "outputs": [],
   "source": [
    "# We have four countries obesity % data is not available for any year, We can drop it.  \n",
    "df_obesty= df_obesity[(df_obesity['Obesity (%)'] !='No data')]\n"
   ]
  },
  {
   "cell_type": "code",
   "execution_count": 10,
   "metadata": {},
   "outputs": [
    {
     "name": "stderr",
     "output_type": "stream",
     "text": [
      "/home/jupyterlab/conda/envs/python/lib/python3.6/site-packages/ipykernel_launcher.py:2: SettingWithCopyWarning: \n",
      "A value is trying to be set on a copy of a slice from a DataFrame.\n",
      "Try using .loc[row_indexer,col_indexer] = value instead\n",
      "\n",
      "See the caveats in the documentation: https://pandas.pydata.org/pandas-docs/stable/user_guide/indexing.html#returning-a-view-versus-a-copy\n",
      "  \n"
     ]
    },
    {
     "data": {
      "text/html": [
       "<div>\n",
       "<style scoped>\n",
       "    .dataframe tbody tr th:only-of-type {\n",
       "        vertical-align: middle;\n",
       "    }\n",
       "\n",
       "    .dataframe tbody tr th {\n",
       "        vertical-align: top;\n",
       "    }\n",
       "\n",
       "    .dataframe thead th {\n",
       "        text-align: right;\n",
       "    }\n",
       "</style>\n",
       "<table border=\"1\" class=\"dataframe\">\n",
       "  <thead>\n",
       "    <tr style=\"text-align: right;\">\n",
       "      <th></th>\n",
       "      <th>Unnamed: 0</th>\n",
       "      <th>Country</th>\n",
       "      <th>Year</th>\n",
       "      <th>Obesity (%)</th>\n",
       "      <th>Obesity</th>\n",
       "    </tr>\n",
       "  </thead>\n",
       "  <tbody>\n",
       "    <tr>\n",
       "      <th>0</th>\n",
       "      <td>0</td>\n",
       "      <td>Afghanistan</td>\n",
       "      <td>1975</td>\n",
       "      <td>0.5 [0.2-1.1]</td>\n",
       "      <td>0.5</td>\n",
       "    </tr>\n",
       "    <tr>\n",
       "      <th>3</th>\n",
       "      <td>3</td>\n",
       "      <td>Afghanistan</td>\n",
       "      <td>1976</td>\n",
       "      <td>0.5 [0.2-1.1]</td>\n",
       "      <td>0.5</td>\n",
       "    </tr>\n",
       "    <tr>\n",
       "      <th>6</th>\n",
       "      <td>6</td>\n",
       "      <td>Afghanistan</td>\n",
       "      <td>1977</td>\n",
       "      <td>0.6 [0.2-1.2]</td>\n",
       "      <td>0.6</td>\n",
       "    </tr>\n",
       "    <tr>\n",
       "      <th>9</th>\n",
       "      <td>9</td>\n",
       "      <td>Afghanistan</td>\n",
       "      <td>1978</td>\n",
       "      <td>0.6 [0.2-1.3]</td>\n",
       "      <td>0.6</td>\n",
       "    </tr>\n",
       "    <tr>\n",
       "      <th>12</th>\n",
       "      <td>12</td>\n",
       "      <td>Afghanistan</td>\n",
       "      <td>1979</td>\n",
       "      <td>0.6 [0.3-1.3]</td>\n",
       "      <td>0.6</td>\n",
       "    </tr>\n",
       "  </tbody>\n",
       "</table>\n",
       "</div>"
      ],
      "text/plain": [
       "    Unnamed: 0      Country  Year    Obesity (%)  Obesity\n",
       "0            0  Afghanistan  1975  0.5 [0.2-1.1]      0.5\n",
       "3            3  Afghanistan  1976  0.5 [0.2-1.1]      0.5\n",
       "6            6  Afghanistan  1977  0.6 [0.2-1.2]      0.6\n",
       "9            9  Afghanistan  1978  0.6 [0.2-1.3]      0.6\n",
       "12          12  Afghanistan  1979  0.6 [0.3-1.3]      0.6"
      ]
     },
     "execution_count": 10,
     "metadata": {},
     "output_type": "execute_result"
    }
   ],
   "source": [
    "# Converting data type into float from string to perform calculation. \n",
    "df_obesty['Obesity']=df_obesty['Obesity (%)'].str[0:4].astype(float)\n",
    "df_obesty.head()"
   ]
  },
  {
   "cell_type": "code",
   "execution_count": 11,
   "metadata": {},
   "outputs": [
    {
     "name": "stderr",
     "output_type": "stream",
     "text": [
      "/home/jupyterlab/conda/envs/python/lib/python3.6/site-packages/pandas/core/frame.py:3997: SettingWithCopyWarning: \n",
      "A value is trying to be set on a copy of a slice from a DataFrame\n",
      "\n",
      "See the caveats in the documentation: https://pandas.pydata.org/pandas-docs/stable/user_guide/indexing.html#returning-a-view-versus-a-copy\n",
      "  errors=errors,\n"
     ]
    }
   ],
   "source": [
    "# Check the Year range and transpose years into columns \n",
    "\n",
    "# df_obesty.Year.unique()\n",
    "# Range = [1975 to 2016 ]\n",
    "\n",
    "# Dropping columns that might not be required \n",
    "df_obesty.drop(['Obesity (%)','Unnamed: 0'],axis=1,inplace=True)\n"
   ]
  },
  {
   "cell_type": "code",
   "execution_count": 12,
   "metadata": {},
   "outputs": [
    {
     "data": {
      "text/html": [
       "<div>\n",
       "<style scoped>\n",
       "    .dataframe tbody tr th:only-of-type {\n",
       "        vertical-align: middle;\n",
       "    }\n",
       "\n",
       "    .dataframe tbody tr th {\n",
       "        vertical-align: top;\n",
       "    }\n",
       "\n",
       "    .dataframe thead th {\n",
       "        text-align: right;\n",
       "    }\n",
       "</style>\n",
       "<table border=\"1\" class=\"dataframe\">\n",
       "  <thead>\n",
       "    <tr style=\"text-align: right;\">\n",
       "      <th></th>\n",
       "      <th>Country</th>\n",
       "      <th>Year</th>\n",
       "      <th>Obesity</th>\n",
       "    </tr>\n",
       "  </thead>\n",
       "  <tbody>\n",
       "    <tr>\n",
       "      <th>0</th>\n",
       "      <td>Afghanistan</td>\n",
       "      <td>1975</td>\n",
       "      <td>0.5</td>\n",
       "    </tr>\n",
       "    <tr>\n",
       "      <th>3</th>\n",
       "      <td>Afghanistan</td>\n",
       "      <td>1976</td>\n",
       "      <td>0.5</td>\n",
       "    </tr>\n",
       "    <tr>\n",
       "      <th>6</th>\n",
       "      <td>Afghanistan</td>\n",
       "      <td>1977</td>\n",
       "      <td>0.6</td>\n",
       "    </tr>\n",
       "    <tr>\n",
       "      <th>9</th>\n",
       "      <td>Afghanistan</td>\n",
       "      <td>1978</td>\n",
       "      <td>0.6</td>\n",
       "    </tr>\n",
       "    <tr>\n",
       "      <th>12</th>\n",
       "      <td>Afghanistan</td>\n",
       "      <td>1979</td>\n",
       "      <td>0.6</td>\n",
       "    </tr>\n",
       "  </tbody>\n",
       "</table>\n",
       "</div>"
      ],
      "text/plain": [
       "        Country  Year  Obesity\n",
       "0   Afghanistan  1975      0.5\n",
       "3   Afghanistan  1976      0.5\n",
       "6   Afghanistan  1977      0.6\n",
       "9   Afghanistan  1978      0.6\n",
       "12  Afghanistan  1979      0.6"
      ]
     },
     "execution_count": 12,
     "metadata": {},
     "output_type": "execute_result"
    }
   ],
   "source": [
    "df_obesty.head()"
   ]
  },
  {
   "cell_type": "markdown",
   "metadata": {},
   "source": [
    "### From Formatted dataset , Analyze the Obesity pattern for different countries. \n",
    "\n"
   ]
  },
  {
   "cell_type": "markdown",
   "metadata": {},
   "source": [
    "#### We have 191 countries for analysis and Identify top 15 countries with more Obesity and less obesity rate in 2016 \n"
   ]
  },
  {
   "cell_type": "code",
   "execution_count": 13,
   "metadata": {},
   "outputs": [
    {
     "name": "stderr",
     "output_type": "stream",
     "text": [
      "/home/jupyterlab/conda/envs/python/lib/python3.6/site-packages/pandas/core/frame.py:3997: SettingWithCopyWarning: \n",
      "A value is trying to be set on a copy of a slice from a DataFrame\n",
      "\n",
      "See the caveats in the documentation: https://pandas.pydata.org/pandas-docs/stable/user_guide/indexing.html#returning-a-view-versus-a-copy\n",
      "  errors=errors,\n"
     ]
    },
    {
     "data": {
      "text/html": [
       "<div>\n",
       "<style scoped>\n",
       "    .dataframe tbody tr th:only-of-type {\n",
       "        vertical-align: middle;\n",
       "    }\n",
       "\n",
       "    .dataframe tbody tr th {\n",
       "        vertical-align: top;\n",
       "    }\n",
       "\n",
       "    .dataframe thead th {\n",
       "        text-align: right;\n",
       "    }\n",
       "</style>\n",
       "<table border=\"1\" class=\"dataframe\">\n",
       "  <thead>\n",
       "    <tr style=\"text-align: right;\">\n",
       "      <th></th>\n",
       "      <th>Obesity</th>\n",
       "    </tr>\n",
       "    <tr>\n",
       "      <th>Country</th>\n",
       "      <th></th>\n",
       "    </tr>\n",
       "  </thead>\n",
       "  <tbody>\n",
       "    <tr>\n",
       "      <th>Afghanistan</th>\n",
       "      <td>0.5</td>\n",
       "    </tr>\n",
       "    <tr>\n",
       "      <th>Albania</th>\n",
       "      <td>6.5</td>\n",
       "    </tr>\n",
       "    <tr>\n",
       "      <th>Algeria</th>\n",
       "      <td>6.9</td>\n",
       "    </tr>\n",
       "    <tr>\n",
       "      <th>Andorra</th>\n",
       "      <td>12.9</td>\n",
       "    </tr>\n",
       "    <tr>\n",
       "      <th>Angola</th>\n",
       "      <td>0.8</td>\n",
       "    </tr>\n",
       "  </tbody>\n",
       "</table>\n",
       "</div>"
      ],
      "text/plain": [
       "             Obesity\n",
       "Country             \n",
       "Afghanistan      0.5\n",
       "Albania          6.5\n",
       "Algeria          6.9\n",
       "Andorra         12.9\n",
       "Angola           0.8"
      ]
     },
     "execution_count": 13,
     "metadata": {},
     "output_type": "execute_result"
    }
   ],
   "source": [
    "df_2016 = df_obesty[(df_obesty['Year'] == 2016)]\n",
    "df_2016.count() # number of countries for analysis \n",
    "# df_2016.columns= ['Country','Obesity']\n",
    "df_2016.drop(['Year'], axis=1,inplace=True)\n",
    "df_2016.set_index('Country', inplace=True)\n",
    "df_2016.head()\n",
    "\n",
    "df_1975 = df_obesty[(df_obesty['Year'] == 1975)]\n",
    "df_1975.count() # number of countries for analysis \n",
    "# df_2016.columns= ['Country','Obesity']\n",
    "df_1975.drop(['Year'], axis=1,inplace=True)\n",
    "df_1975.set_index('Country', inplace=True)\n",
    "df_1975.head()"
   ]
  },
  {
   "cell_type": "code",
   "execution_count": 19,
   "metadata": {},
   "outputs": [
    {
     "data": {
      "text/html": [
       "<div>\n",
       "<style scoped>\n",
       "    .dataframe tbody tr th:only-of-type {\n",
       "        vertical-align: middle;\n",
       "    }\n",
       "\n",
       "    .dataframe tbody tr th {\n",
       "        vertical-align: top;\n",
       "    }\n",
       "\n",
       "    .dataframe thead th {\n",
       "        text-align: right;\n",
       "    }\n",
       "</style>\n",
       "<table border=\"1\" class=\"dataframe\">\n",
       "  <thead>\n",
       "    <tr style=\"text-align: right;\">\n",
       "      <th></th>\n",
       "      <th>Obesity</th>\n",
       "    </tr>\n",
       "    <tr>\n",
       "      <th>Country</th>\n",
       "      <th></th>\n",
       "    </tr>\n",
       "  </thead>\n",
       "  <tbody>\n",
       "    <tr>\n",
       "      <th>Nauru</th>\n",
       "      <td>61.0</td>\n",
       "    </tr>\n",
       "    <tr>\n",
       "      <th>Cook Islands</th>\n",
       "      <td>55.9</td>\n",
       "    </tr>\n",
       "    <tr>\n",
       "      <th>Palau</th>\n",
       "      <td>55.3</td>\n",
       "    </tr>\n",
       "    <tr>\n",
       "      <th>Marshall Islands</th>\n",
       "      <td>52.9</td>\n",
       "    </tr>\n",
       "    <tr>\n",
       "      <th>Tuvalu</th>\n",
       "      <td>51.6</td>\n",
       "    </tr>\n",
       "    <tr>\n",
       "      <th>Niue</th>\n",
       "      <td>50.0</td>\n",
       "    </tr>\n",
       "    <tr>\n",
       "      <th>Tonga</th>\n",
       "      <td>48.2</td>\n",
       "    </tr>\n",
       "    <tr>\n",
       "      <th>Samoa</th>\n",
       "      <td>47.3</td>\n",
       "    </tr>\n",
       "    <tr>\n",
       "      <th>Kiribati</th>\n",
       "      <td>46.0</td>\n",
       "    </tr>\n",
       "    <tr>\n",
       "      <th>Micronesia (Federated States of)</th>\n",
       "      <td>45.8</td>\n",
       "    </tr>\n",
       "    <tr>\n",
       "      <th>Kuwait</th>\n",
       "      <td>37.9</td>\n",
       "    </tr>\n",
       "    <tr>\n",
       "      <th>United States of America</th>\n",
       "      <td>36.2</td>\n",
       "    </tr>\n",
       "    <tr>\n",
       "      <th>Jordan</th>\n",
       "      <td>35.5</td>\n",
       "    </tr>\n",
       "    <tr>\n",
       "      <th>Saudi Arabia</th>\n",
       "      <td>35.4</td>\n",
       "    </tr>\n",
       "    <tr>\n",
       "      <th>Qatar</th>\n",
       "      <td>35.1</td>\n",
       "    </tr>\n",
       "  </tbody>\n",
       "</table>\n",
       "</div>"
      ],
      "text/plain": [
       "                                  Obesity\n",
       "Country                                  \n",
       "Nauru                                61.0\n",
       "Cook Islands                         55.9\n",
       "Palau                                55.3\n",
       "Marshall Islands                     52.9\n",
       "Tuvalu                               51.6\n",
       "Niue                                 50.0\n",
       "Tonga                                48.2\n",
       "Samoa                                47.3\n",
       "Kiribati                             46.0\n",
       "Micronesia (Federated States of)     45.8\n",
       "Kuwait                               37.9\n",
       "United States of America             36.2\n",
       "Jordan                               35.5\n",
       "Saudi Arabia                         35.4\n",
       "Qatar                                35.1"
      ]
     },
     "execution_count": 19,
     "metadata": {},
     "output_type": "execute_result"
    }
   ],
   "source": [
    "df_top15_Obese_List=df_2016.sort_values('Obesity',ascending=False).head(15)\n",
    "df_top15_Obese_List"
   ]
  },
  {
   "cell_type": "markdown",
   "metadata": {},
   "source": [
    "#### From above anlysis , excluding islands with less population and picking only countries, we have below 5 countries with more Obesity\n",
    "1) Kuwait       | 37.9                     \n",
    "2) USA          | 36.2                          \n",
    "3) Jordan       | 35.5                         \n",
    "4) Saudi Arabia | 35.4                \n",
    "5) Qatar        | 35.1               \n"
   ]
  },
  {
   "cell_type": "code",
   "execution_count": 15,
   "metadata": {},
   "outputs": [],
   "source": [
    "df_Bottom15_Obese_list=df_2016.sort_values('Obesity',ascending=True).head(15)"
   ]
  },
  {
   "cell_type": "markdown",
   "metadata": {},
   "source": [
    "#### From above anlysis , we have below 5 countries with more Obesity\n",
    "1) Vietnam      | 2.1                    \n",
    "2) Bangladesh   | 3.6                          \n",
    "3) India        | 3.9                        \n",
    "4) Cambodia     | 3.9                \n",
    "5) Nepal        | 4.2"
   ]
  },
  {
   "cell_type": "markdown",
   "metadata": {},
   "source": [
    "### Histogram representation of top 15 countries and bottom 15 countries with Obesity"
   ]
  },
  {
   "cell_type": "code",
   "execution_count": 17,
   "metadata": {},
   "outputs": [
    {
     "name": "stdout",
     "output_type": "stream",
     "text": [
      "Matplotlib version:  3.1.1\n"
     ]
    }
   ],
   "source": [
    "# use the inline backend to generate the plots within the browser\n",
    "%matplotlib inline \n",
    "\n",
    "import matplotlib as mpl\n",
    "import matplotlib.pyplot as plt\n",
    "\n",
    "mpl.style.use('ggplot') # optional: for ggplot-like style\n",
    "\n",
    "# check for latest version of Matplotlib\n",
    "print ('Matplotlib version: ', mpl.__version__) # >= 2.0.0"
   ]
  },
  {
   "cell_type": "code",
   "execution_count": 30,
   "metadata": {},
   "outputs": [
    {
     "data": {
      "image/png": "[encoded data removed]",
      "text/plain": [
       "<Figure size 720x432 with 1 Axes>"
      ]
     },
     "metadata": {},
     "output_type": "display_data"
    }
   ],
   "source": [
    "# BAr Diagram view of top 15 countries with Obesity. \n",
    "df_top15_Obese_List.plot(kind='bar', figsize=(10, 6), rot=90) \n",
    "\n",
    "plt.title('Bar Diagram of top 15 Countries with Obesity in 2016') # add a title to the histogram\n",
    "plt.xlabel('Countries name') # add y-label\n",
    "plt.ylabel('Obesity Percentage') # add x-label\n",
    "\n",
    "plt.show()\n",
    "\n"
   ]
  },
  {
   "cell_type": "code",
   "execution_count": 31,
   "metadata": {},
   "outputs": [
    {
     "data": {
      "image/png": "[encoded data removed]",
      "text/plain": [
       "<Figure size 720x432 with 1 Axes>"
      ]
     },
     "metadata": {},
     "output_type": "display_data"
    }
   ],
   "source": [
    "# BAr Diagram view of top 15 countries with Obesity. \n",
    "df_Bottom15_Obese_list.plot(kind='bar', figsize=(10, 6), rot=90) \n",
    "\n",
    "plt.title('Bar Diagram of bottom 15 Countries with Obesity in 2016') # add a title to the histogram\n",
    "plt.xlabel('Countries name') # add y-label\n",
    "plt.ylabel('Obesity Percentage') # add x-label\n",
    "\n",
    "plt.show()\n"
   ]
  },
  {
   "cell_type": "markdown",
   "metadata": {},
   "source": [
    "## Analyze whether Obesity rate is decreasing in any country ..  \n",
    "\n",
    "##### Quick way is to verify whether mean , median mode is greater than 2016 Obesity rate. "
   ]
  },
  {
   "cell_type": "code",
   "execution_count": 48,
   "metadata": {},
   "outputs": [
    {
     "name": "stdout",
     "output_type": "stream",
     "text": [
      "               Obesity\n",
      "Country               \n",
      "Afghanistan   2.190476\n",
      "Albania      12.445238\n",
      "Algeria      15.714286\n",
      "Andorra      20.495238\n",
      "Angola        3.414286\n",
      "             Obesity\n",
      "Country             \n",
      "Afghanistan     1.75\n",
      "Albania        11.50\n",
      "Algeria        15.05\n",
      "Andorra        21.10\n",
      "Angola          2.80\n"
     ]
    },
    {
     "data": {
      "text/html": [
       "<div>\n",
       "<style scoped>\n",
       "    .dataframe tbody tr th:only-of-type {\n",
       "        vertical-align: middle;\n",
       "    }\n",
       "\n",
       "    .dataframe tbody tr th {\n",
       "        vertical-align: top;\n",
       "    }\n",
       "\n",
       "    .dataframe thead th {\n",
       "        text-align: right;\n",
       "    }\n",
       "</style>\n",
       "<table border=\"1\" class=\"dataframe\">\n",
       "  <thead>\n",
       "    <tr style=\"text-align: right;\">\n",
       "      <th></th>\n",
       "      <th>Obesity</th>\n",
       "    </tr>\n",
       "    <tr>\n",
       "      <th>Country</th>\n",
       "      <th></th>\n",
       "    </tr>\n",
       "  </thead>\n",
       "  <tbody>\n",
       "    <tr>\n",
       "      <th>Afghanistan</th>\n",
       "      <td>1.75</td>\n",
       "    </tr>\n",
       "    <tr>\n",
       "      <th>Albania</th>\n",
       "      <td>11.50</td>\n",
       "    </tr>\n",
       "    <tr>\n",
       "      <th>Algeria</th>\n",
       "      <td>15.05</td>\n",
       "    </tr>\n",
       "    <tr>\n",
       "      <th>Andorra</th>\n",
       "      <td>21.10</td>\n",
       "    </tr>\n",
       "    <tr>\n",
       "      <th>Angola</th>\n",
       "      <td>2.80</td>\n",
       "    </tr>\n",
       "  </tbody>\n",
       "</table>\n",
       "</div>"
      ],
      "text/plain": [
       "             Obesity\n",
       "Country             \n",
       "Afghanistan     1.75\n",
       "Albania        11.50\n",
       "Algeria        15.05\n",
       "Andorra        21.10\n",
       "Angola          2.80"
      ]
     },
     "execution_count": 48,
     "metadata": {},
     "output_type": "execute_result"
    }
   ],
   "source": [
    "df_mean1=df_obesty.groupby(['Country'])['Obesity'].mean()\n",
    "df_mean=df_mean1.to_frame()\n",
    "print(df_mean.head())\n",
    "df_median1=df_obesty.groupby(['Country'])['Obesity'].median()\n",
    "df_median=df_median1.to_frame()\n",
    "print(df_median.head())\n",
    "df_mean.head()\n",
    "df_median.head()\n"
   ]
  },
  {
   "cell_type": "code",
   "execution_count": 50,
   "metadata": {},
   "outputs": [
    {
     "name": "stderr",
     "output_type": "stream",
     "text": [
      "/home/jupyterlab/conda/envs/python/lib/python3.6/site-packages/ipykernel_launcher.py:1: SettingWithCopyWarning: \n",
      "A value is trying to be set on a copy of a slice from a DataFrame.\n",
      "Try using .loc[row_indexer,col_indexer] = value instead\n",
      "\n",
      "See the caveats in the documentation: https://pandas.pydata.org/pandas-docs/stable/user_guide/indexing.html#returning-a-view-versus-a-copy\n",
      "  \"\"\"Entry point for launching an IPython kernel.\n",
      "/home/jupyterlab/conda/envs/python/lib/python3.6/site-packages/ipykernel_launcher.py:2: SettingWithCopyWarning: \n",
      "A value is trying to be set on a copy of a slice from a DataFrame.\n",
      "Try using .loc[row_indexer,col_indexer] = value instead\n",
      "\n",
      "See the caveats in the documentation: https://pandas.pydata.org/pandas-docs/stable/user_guide/indexing.html#returning-a-view-versus-a-copy\n",
      "  \n",
      "/home/jupyterlab/conda/envs/python/lib/python3.6/site-packages/ipykernel_launcher.py:3: SettingWithCopyWarning: \n",
      "A value is trying to be set on a copy of a slice from a DataFrame.\n",
      "Try using .loc[row_indexer,col_indexer] = value instead\n",
      "\n",
      "See the caveats in the documentation: https://pandas.pydata.org/pandas-docs/stable/user_guide/indexing.html#returning-a-view-versus-a-copy\n",
      "  This is separate from the ipykernel package so we can avoid doing imports until\n"
     ]
    },
    {
     "data": {
      "text/html": [
       "<div>\n",
       "<style scoped>\n",
       "    .dataframe tbody tr th:only-of-type {\n",
       "        vertical-align: middle;\n",
       "    }\n",
       "\n",
       "    .dataframe tbody tr th {\n",
       "        vertical-align: top;\n",
       "    }\n",
       "\n",
       "    .dataframe thead th {\n",
       "        text-align: right;\n",
       "    }\n",
       "</style>\n",
       "<table border=\"1\" class=\"dataframe\">\n",
       "  <thead>\n",
       "    <tr style=\"text-align: right;\">\n",
       "      <th></th>\n",
       "      <th>2016-Obesity</th>\n",
       "      <th>1975-Obesity</th>\n",
       "      <th>mean</th>\n",
       "      <th>median</th>\n",
       "    </tr>\n",
       "    <tr>\n",
       "      <th>Country</th>\n",
       "      <th></th>\n",
       "      <th></th>\n",
       "      <th></th>\n",
       "      <th></th>\n",
       "    </tr>\n",
       "  </thead>\n",
       "  <tbody>\n",
       "    <tr>\n",
       "      <th>Afghanistan</th>\n",
       "      <td>5.5</td>\n",
       "      <td>0.5</td>\n",
       "      <td>2.190476</td>\n",
       "      <td>1.75</td>\n",
       "    </tr>\n",
       "    <tr>\n",
       "      <th>Albania</th>\n",
       "      <td>21.7</td>\n",
       "      <td>6.5</td>\n",
       "      <td>12.445238</td>\n",
       "      <td>11.50</td>\n",
       "    </tr>\n",
       "    <tr>\n",
       "      <th>Algeria</th>\n",
       "      <td>27.4</td>\n",
       "      <td>6.9</td>\n",
       "      <td>15.714286</td>\n",
       "      <td>15.05</td>\n",
       "    </tr>\n",
       "    <tr>\n",
       "      <th>Andorra</th>\n",
       "      <td>25.6</td>\n",
       "      <td>12.9</td>\n",
       "      <td>20.495238</td>\n",
       "      <td>21.10</td>\n",
       "    </tr>\n",
       "    <tr>\n",
       "      <th>Angola</th>\n",
       "      <td>8.2</td>\n",
       "      <td>0.8</td>\n",
       "      <td>3.414286</td>\n",
       "      <td>2.80</td>\n",
       "    </tr>\n",
       "  </tbody>\n",
       "</table>\n",
       "</div>"
      ],
      "text/plain": [
       "             2016-Obesity  1975-Obesity       mean  median\n",
       "Country                                                   \n",
       "Afghanistan           5.5           0.5   2.190476    1.75\n",
       "Albania              21.7           6.5  12.445238   11.50\n",
       "Algeria              27.4           6.9  15.714286   15.05\n",
       "Andorra              25.6          12.9  20.495238   21.10\n",
       "Angola                8.2           0.8   3.414286    2.80"
      ]
     },
     "execution_count": 50,
     "metadata": {},
     "output_type": "execute_result"
    }
   ],
   "source": [
    "df_2016['1975']=df_1975['Obesity']\n",
    "df_2016['mean']=df_mean['Obesity']\n",
    "df_2016['median']=df_median['Obesity']\n",
    "\n",
    "df_Obese_analyze=df_2016.rename(columns={'Obesity':'2016-Obesity','1975':'1975-Obesity'})\n",
    "df_Obese_analyze.head()"
   ]
  },
  {
   "cell_type": "code",
   "execution_count": 51,
   "metadata": {},
   "outputs": [
    {
     "data": {
      "text/html": [
       "<div>\n",
       "<style scoped>\n",
       "    .dataframe tbody tr th:only-of-type {\n",
       "        vertical-align: middle;\n",
       "    }\n",
       "\n",
       "    .dataframe tbody tr th {\n",
       "        vertical-align: top;\n",
       "    }\n",
       "\n",
       "    .dataframe thead th {\n",
       "        text-align: right;\n",
       "    }\n",
       "</style>\n",
       "<table border=\"1\" class=\"dataframe\">\n",
       "  <thead>\n",
       "    <tr style=\"text-align: right;\">\n",
       "      <th></th>\n",
       "      <th>2016-Obesity</th>\n",
       "      <th>1975-Obesity</th>\n",
       "      <th>mean</th>\n",
       "      <th>median</th>\n",
       "    </tr>\n",
       "    <tr>\n",
       "      <th>Country</th>\n",
       "      <th></th>\n",
       "      <th></th>\n",
       "      <th></th>\n",
       "      <th></th>\n",
       "    </tr>\n",
       "  </thead>\n",
       "  <tbody>\n",
       "  </tbody>\n",
       "</table>\n",
       "</div>"
      ],
      "text/plain": [
       "Empty DataFrame\n",
       "Columns: [2016-Obesity, 1975-Obesity, mean, median]\n",
       "Index: []"
      ]
     },
     "execution_count": 51,
     "metadata": {},
     "output_type": "execute_result"
    }
   ],
   "source": [
    "# Check whether Mean or Median is greater than 2016 Obesity rate , implies obesity rate is decreasing. \n",
    "df_Obese_analyze[(df_Obese_analyze['2016-Obesity'] <= df_Obese_analyze['mean'])]\n",
    "df_Obese_analyze[(df_Obese_analyze['2016-Obesity'] <= df_Obese_analyze['median'])]"
   ]
  },
  {
   "cell_type": "markdown",
   "metadata": {},
   "source": [
    "### Above analysis implies ,  no country has obesity rate on considerable declining path.\n",
    "\n",
    "#### Verify which country has increased in Obesity ration compare from current decade to last decade. "
   ]
  },
  {
   "cell_type": "code",
   "execution_count": 52,
   "metadata": {},
   "outputs": [
    {
     "data": {
      "text/html": [
       "<div>\n",
       "<style scoped>\n",
       "    .dataframe tbody tr th:only-of-type {\n",
       "        vertical-align: middle;\n",
       "    }\n",
       "\n",
       "    .dataframe tbody tr th {\n",
       "        vertical-align: top;\n",
       "    }\n",
       "\n",
       "    .dataframe thead th {\n",
       "        text-align: right;\n",
       "    }\n",
       "</style>\n",
       "<table border=\"1\" class=\"dataframe\">\n",
       "  <thead>\n",
       "    <tr style=\"text-align: right;\">\n",
       "      <th></th>\n",
       "      <th>2016-Obesity</th>\n",
       "      <th>1975-Obesity</th>\n",
       "      <th>mean</th>\n",
       "      <th>median</th>\n",
       "    </tr>\n",
       "    <tr>\n",
       "      <th>Country</th>\n",
       "      <th></th>\n",
       "      <th></th>\n",
       "      <th></th>\n",
       "      <th></th>\n",
       "    </tr>\n",
       "  </thead>\n",
       "  <tbody>\n",
       "    <tr>\n",
       "      <th>Costa Rica</th>\n",
       "      <td>25.7</td>\n",
       "      <td>5.2</td>\n",
       "      <td>13.526190</td>\n",
       "      <td>12.45</td>\n",
       "    </tr>\n",
       "    <tr>\n",
       "      <th>Dominican Republic</th>\n",
       "      <td>27.6</td>\n",
       "      <td>5.8</td>\n",
       "      <td>14.883333</td>\n",
       "      <td>13.65</td>\n",
       "    </tr>\n",
       "    <tr>\n",
       "      <th>Haiti</th>\n",
       "      <td>22.7</td>\n",
       "      <td>3.2</td>\n",
       "      <td>10.250000</td>\n",
       "      <td>8.85</td>\n",
       "    </tr>\n",
       "    <tr>\n",
       "      <th>Malaysia</th>\n",
       "      <td>15.6</td>\n",
       "      <td>1.4</td>\n",
       "      <td>6.535714</td>\n",
       "      <td>5.30</td>\n",
       "    </tr>\n",
       "    <tr>\n",
       "      <th>United Arab Emirates</th>\n",
       "      <td>31.7</td>\n",
       "      <td>13.7</td>\n",
       "      <td>21.028571</td>\n",
       "      <td>19.95</td>\n",
       "    </tr>\n",
       "    <tr>\n",
       "      <th>Yemen</th>\n",
       "      <td>17.1</td>\n",
       "      <td>2.8</td>\n",
       "      <td>8.214286</td>\n",
       "      <td>7.15</td>\n",
       "    </tr>\n",
       "  </tbody>\n",
       "</table>\n",
       "</div>"
      ],
      "text/plain": [
       "                      2016-Obesity  1975-Obesity       mean  median\n",
       "Country                                                            \n",
       "Costa Rica                    25.7           5.2  13.526190   12.45\n",
       "Dominican Republic            27.6           5.8  14.883333   13.65\n",
       "Haiti                         22.7           3.2  10.250000    8.85\n",
       "Malaysia                      15.6           1.4   6.535714    5.30\n",
       "United Arab Emirates          31.7          13.7  21.028571   19.95\n",
       "Yemen                         17.1           2.8   8.214286    7.15"
      ]
     },
     "execution_count": 52,
     "metadata": {},
     "output_type": "execute_result"
    }
   ],
   "source": [
    "# Since Mean is greater than median , implies second half has inclined Obesity ratio. \n",
    "df_Obese_analyze[(df_Obese_analyze['mean'] >= df_Obese_analyze['median'] + 1)]"
   ]
  },
  {
   "cell_type": "code",
   "execution_count": 63,
   "metadata": {},
   "outputs": [
    {
     "data": {
      "text/html": [
       "<div>\n",
       "<style scoped>\n",
       "    .dataframe tbody tr th:only-of-type {\n",
       "        vertical-align: middle;\n",
       "    }\n",
       "\n",
       "    .dataframe tbody tr th {\n",
       "        vertical-align: top;\n",
       "    }\n",
       "\n",
       "    .dataframe thead th {\n",
       "        text-align: right;\n",
       "    }\n",
       "</style>\n",
       "<table border=\"1\" class=\"dataframe\">\n",
       "  <thead>\n",
       "    <tr style=\"text-align: right;\">\n",
       "      <th></th>\n",
       "      <th>Country</th>\n",
       "      <th>Year</th>\n",
       "      <th>Obesity</th>\n",
       "    </tr>\n",
       "  </thead>\n",
       "  <tbody>\n",
       "    <tr>\n",
       "      <th>23058</th>\n",
       "      <td>United Arab Emirates</td>\n",
       "      <td>1975</td>\n",
       "      <td>13.7</td>\n",
       "    </tr>\n",
       "    <tr>\n",
       "      <th>23061</th>\n",
       "      <td>United Arab Emirates</td>\n",
       "      <td>1976</td>\n",
       "      <td>13.9</td>\n",
       "    </tr>\n",
       "    <tr>\n",
       "      <th>23064</th>\n",
       "      <td>United Arab Emirates</td>\n",
       "      <td>1977</td>\n",
       "      <td>14.0</td>\n",
       "    </tr>\n",
       "    <tr>\n",
       "      <th>23067</th>\n",
       "      <td>United Arab Emirates</td>\n",
       "      <td>1978</td>\n",
       "      <td>14.3</td>\n",
       "    </tr>\n",
       "    <tr>\n",
       "      <th>23070</th>\n",
       "      <td>United Arab Emirates</td>\n",
       "      <td>1979</td>\n",
       "      <td>14.5</td>\n",
       "    </tr>\n",
       "  </tbody>\n",
       "</table>\n",
       "</div>"
      ],
      "text/plain": [
       "                    Country  Year  Obesity\n",
       "23058  United Arab Emirates  1975     13.7\n",
       "23061  United Arab Emirates  1976     13.9\n",
       "23064  United Arab Emirates  1977     14.0\n",
       "23067  United Arab Emirates  1978     14.3\n",
       "23070  United Arab Emirates  1979     14.5"
      ]
     },
     "execution_count": 63,
     "metadata": {},
     "output_type": "execute_result"
    }
   ],
   "source": [
    "## Lets analyze the United Arab Emirates Obesity ratio from last 4 decades\n",
    "df_UAElist = df_obesty[(df_obesty['Country'] == 'United Arab Emirates')]\n",
    "df_UAElist.head()\n"
   ]
  },
  {
   "cell_type": "code",
   "execution_count": 77,
   "metadata": {},
   "outputs": [
    {
     "data": {
      "text/html": [
       "<div>\n",
       "<style scoped>\n",
       "    .dataframe tbody tr th:only-of-type {\n",
       "        vertical-align: middle;\n",
       "    }\n",
       "\n",
       "    .dataframe tbody tr th {\n",
       "        vertical-align: top;\n",
       "    }\n",
       "\n",
       "    .dataframe thead th {\n",
       "        text-align: right;\n",
       "    }\n",
       "</style>\n",
       "<table border=\"1\" class=\"dataframe\">\n",
       "  <thead>\n",
       "    <tr style=\"text-align: right;\">\n",
       "      <th></th>\n",
       "      <th>Obesity</th>\n",
       "    </tr>\n",
       "    <tr>\n",
       "      <th>Year</th>\n",
       "      <th></th>\n",
       "    </tr>\n",
       "  </thead>\n",
       "  <tbody>\n",
       "    <tr>\n",
       "      <th>1975</th>\n",
       "      <td>13.7</td>\n",
       "    </tr>\n",
       "    <tr>\n",
       "      <th>1976</th>\n",
       "      <td>13.9</td>\n",
       "    </tr>\n",
       "    <tr>\n",
       "      <th>1977</th>\n",
       "      <td>14.0</td>\n",
       "    </tr>\n",
       "    <tr>\n",
       "      <th>1978</th>\n",
       "      <td>14.3</td>\n",
       "    </tr>\n",
       "    <tr>\n",
       "      <th>1979</th>\n",
       "      <td>14.5</td>\n",
       "    </tr>\n",
       "  </tbody>\n",
       "</table>\n",
       "</div>"
      ],
      "text/plain": [
       "      Obesity\n",
       "Year         \n",
       "1975     13.7\n",
       "1976     13.9\n",
       "1977     14.0\n",
       "1978     14.3\n",
       "1979     14.5"
      ]
     },
     "execution_count": 77,
     "metadata": {},
     "output_type": "execute_result"
    }
   ],
   "source": [
    "# Pick the column that are necessary and set index to Year. \n",
    "\n",
    "df_UAE=df_UAElist[['Year','Obesity']].set_index('Year')\n",
    "\n",
    "df_UAE.head()"
   ]
  },
  {
   "cell_type": "markdown",
   "metadata": {},
   "source": [
    "### Line Diagram view of UAE Obesity rate from 1975 to 2016. "
   ]
  },
  {
   "cell_type": "code",
   "execution_count": 75,
   "metadata": {},
   "outputs": [
    {
     "data": {
      "image/png": "[encoded data removed]",
      "text/plain": [
       "<Figure size 720x432 with 1 Axes>"
      ]
     },
     "metadata": {},
     "output_type": "display_data"
    }
   ],
   "source": [
    "# Line Diagram view of UAE Obecity ratetop 15 countries with Obesity. \n",
    "df_UAE.plot(kind='line', figsize=(10, 6))\n",
    "\n",
    "plt.title('Line Diagram of UAE Obesity rate') # add a title to the histogram\n",
    "plt.xlabel('Years') # add y-label\n",
    "plt.ylabel('Obesity Percentage') # add x-label\n",
    "plt.text(2000, 30.0, 'Spike in Obese rate')\n",
    "plt.show()"
   ]
  },
  {
   "cell_type": "markdown",
   "metadata": {},
   "source": [
    "## Based on analysis from diagram, in first 25 years for UAE, Obesity rate increased by only 9 % and last 15 years it increased by 11% , based on food habits and changes"
   ]
  }
 ],
 "metadata": {
  "kernelspec": {
   "display_name": "Python",
   "language": "python",
   "name": "conda-env-python-py"
  },
  "language_info": {
   "codemirror_mode": {
    "name": "ipython",
    "version": 3
   },
   "file_extension": ".py",
   "mimetype": "text/x-python",
   "name": "python",
   "nbconvert_exporter": "python",
   "pygments_lexer": "ipython3",
   "version": "3.6.10"
  }
 },
 "nbformat": 4,
 "nbformat_minor": 4
}
